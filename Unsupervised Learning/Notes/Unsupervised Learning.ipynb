{
 "cells": [
  {
   "cell_type": "markdown",
   "id": "e2b763f6",
   "metadata": {},
   "source": [
    "# Unsupervised Learning"
   ]
  },
  {
   "cell_type": "markdown",
   "id": "ab547668",
   "metadata": {},
   "source": [
    "## Clustering\n",
    "\n",
    "### Types of Unsupervised Learning\n",
    "There are two popular methods for unsupervised machine learning.\n",
    "\n",
    "1. Clustering - which groups data together based on similarities\n",
    "\n",
    "2. Dimensionality Reduction - which condenses a large number of features into a (usually much) smaller set of features.\n",
    "\n",
    "## K-Means\n",
    "The K-Means algorithm is used to cluster all sorts of data.\n",
    "\n",
    "It can group together\n",
    "\n",
    "1. Books of similar genres or written by the same authors.\n",
    "2. Similar movies.\n",
    "3. Similar music.\n",
    "4. Similar groups of customers.\n",
    "\n",
    "This clustering can lead to product, movie, music and other types of recommendations."
   ]
  },
  {
   "cell_type": "code",
   "execution_count": null,
   "id": "36e93d2e",
   "metadata": {},
   "outputs": [],
   "source": []
  }
 ],
 "metadata": {
  "kernelspec": {
   "display_name": "Python 3",
   "language": "python",
   "name": "python3"
  },
  "language_info": {
   "codemirror_mode": {
    "name": "ipython",
    "version": 3
   },
   "file_extension": ".py",
   "mimetype": "text/x-python",
   "name": "python",
   "nbconvert_exporter": "python",
   "pygments_lexer": "ipython3",
   "version": "3.8.10"
  }
 },
 "nbformat": 4,
 "nbformat_minor": 5
}
