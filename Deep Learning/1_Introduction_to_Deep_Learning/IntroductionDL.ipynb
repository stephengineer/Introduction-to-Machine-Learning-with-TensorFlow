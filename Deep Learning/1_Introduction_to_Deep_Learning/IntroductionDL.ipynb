{
 "cells": [
  {
   "cell_type": "markdown",
   "id": "32267bd6",
   "metadata": {},
   "source": [
    "# Introduction to Deep Learning"
   ]
  },
  {
   "cell_type": "markdown",
   "id": "f15132bf",
   "metadata": {},
   "source": [
    "## Anaconda\n",
    "\n",
    "```\n",
    "# Check version\n",
    "conda --version\n",
    "\n",
    "# Create a new virtual environment\n",
    "conda create -n env_name [python=X.X] [LIST_OF_PACKAGES]\n",
    "conda create -n my_env python=3.7 numpy Keras\n",
    "\n",
    "# Entering (Activate) an environment\n",
    "# For  conda 4.6 and later versions on Linux/macOS/Windows, use\n",
    "conda activate my_env\n",
    "#For conda versions prior to 4.6 on Linux/macOS, use \n",
    "source activate my_env\n",
    "#For conda versions prior to 4.6 on Windows, use \n",
    "activate my_env\n",
    "\n",
    "# Deactivate an Environmen\n",
    "# For  conda 4.6 and later versions on Linux/macOS/Windows, use\n",
    "conda deactivate\n",
    "#For conda versions prior to 4.6 on Linux/macOS, use \n",
    "source deactivate\n",
    "#For conda versions prior to 4.6 on Windows, use \n",
    "deactivate\n",
    "\n",
    "# List the Installed Packages in the Current Environment\n",
    "conda list\n",
    "\n",
    "# Install Packages\n",
    "conda install PACKAGE_NAME\n",
    "\n",
    "# Remove Packages\n",
    "conda remove PACKAGE_NAME\n",
    "\n",
    "# Update Packages\n",
    "conda update PACKAGE_NAME\n",
    "\n",
    "# Update all packages in an environment\n",
    "conda upgrade --all\n",
    "\n",
    "# Search a Package to Install\n",
    "conda search *SEARCH_TERM*\n",
    "conda search '*beautifulsoup*'\n",
    "\n",
    "# Saving and loading environments\n",
    "conda env export\n",
    "conda env export > environment.yaml\n",
    "\n",
    "# Create an environment\n",
    "conda env create -f environment.yaml\n",
    "\n",
    "# Listing environments\n",
    "conda env list\n",
    "\n",
    "# List the packages inside an environment\n",
    "# If the environment is not activated\n",
    "conda list -n env_name\n",
    "\n",
    "# To see if a specific package, say `scipy` is installed in an environment\n",
    "conda list -n env_name scipy\n",
    "\n",
    "# Removing an environment\n",
    "conda env remove -n env_name\n",
    "\n",
    "```\n",
    "\n",
    "[Conda Command reference guide](https://conda.io/projects/conda/en/latest/commands.html)Z"
   ]
  },
  {
   "cell_type": "code",
   "execution_count": null,
   "id": "d5a54ace",
   "metadata": {},
   "outputs": [],
   "source": []
  }
 ],
 "metadata": {
  "kernelspec": {
   "display_name": "Python 3",
   "language": "python",
   "name": "python3"
  },
  "language_info": {
   "codemirror_mode": {
    "name": "ipython",
    "version": 3
   },
   "file_extension": ".py",
   "mimetype": "text/x-python",
   "name": "python",
   "nbconvert_exporter": "python",
   "pygments_lexer": "ipython3",
   "version": "3.8.10"
  }
 },
 "nbformat": 4,
 "nbformat_minor": 5
}
